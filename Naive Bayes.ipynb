{
 "cells": [
  {
   "cell_type": "code",
   "execution_count": 38,
   "metadata": {},
   "outputs": [],
   "source": [
    "from sklearn import datasets, naive_bayes, cross_validation\n",
    "from numpy import mean\n",
    "\n",
    "def write_to_file(answer):\n",
    "    with open('answ', 'w') as fout:\n",
    "        fout.write(str(answer)) \n",
    "    \n",
    "\n",
    "digits = datasets.load_digits()\n",
    "breast_cancer = datasets.load_breast_cancer()\n",
    "\n",
    "Bernoulli_Classifier = naive_bayes.BernoulliNB()\n",
    "Multinomial_Classifier = naive_bayes.MultinomialNB()\n",
    "Gaussian_Classifier = naive_bayes.GaussianNB()"
   ]
  },
  {
   "cell_type": "code",
   "execution_count": 32,
   "metadata": {},
   "outputs": [],
   "source": [
    "means_1 = []\n",
    "means_2 = []\n",
    "\n",
    "means_1.append(mean(cross_validation.cross_val_score(Bernoulli_Classifier, digits.data, digits.target)))\n",
    "means_1.append(mean(cross_validation.cross_val_score(Multinomial_Classifier, digits.data, digits.target)))\n",
    "means_1.append(mean(cross_validation.cross_val_score(Gaussian_Classifier, digits.data, digits.target)))\n",
    "\n",
    "means_2.append(mean(cross_validation.cross_val_score(Bernoulli_Classifier, breast_cancer.data, breast_cancer.target)))\n",
    "means_2.append(mean(cross_validation.cross_val_score(Multinomial_Classifier, breast_cancer.data, breast_cancer.target)))\n",
    "means_2.append(mean(cross_validation.cross_val_score(Gaussian_Classifier, breast_cancer.data, breast_cancer.target)))"
   ]
  }
 ],
 "metadata": {
  "kernelspec": {
   "display_name": "Python 2",
   "language": "python",
   "name": "python2"
  },
  "language_info": {
   "codemirror_mode": {
    "name": "ipython",
    "version": 2
   },
   "file_extension": ".py",
   "mimetype": "text/x-python",
   "name": "python",
   "nbconvert_exporter": "python",
   "pygments_lexer": "ipython2",
   "version": "2.7.14"
  }
 },
 "nbformat": 4,
 "nbformat_minor": 2
}
