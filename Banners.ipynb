{
 "cells": [
  {
   "cell_type": "code",
   "execution_count": 1,
   "metadata": {},
   "outputs": [
    {
     "name": "stderr",
     "output_type": "stream",
     "text": [
      "/Users/andreybrylov/anaconda2/lib/python2.7/site-packages/IPython/core/interactiveshell.py:2718: DtypeWarning: Columns (0) have mixed types. Specify dtype option on import or set low_memory=False.\n",
      "  interactivity=interactivity, compiler=compiler, result=result)\n"
     ]
    }
   ],
   "source": [
    "import pandas as pd\n",
    "from sklearn.cluster import MeanShift\n",
    "\n",
    "def write_to_file(coordinates):\n",
    "    with open('ans', 'w') as fout:\n",
    "        fout.write(str(coordinates))\n",
    "\n",
    "data = pd.read_csv('checkins.dat', skipinitialspace = True , sep = '|')\n",
    "data.dropna(inplace = True)\n",
    "subdata = data[['latitude', 'longitude']].head(100000)"
   ]
  },
  {
   "cell_type": "code",
   "execution_count": 2,
   "metadata": {},
   "outputs": [
    {
     "data": {
      "text/plain": [
       "MeanShift(bandwidth=0.1, bin_seeding=False, cluster_all=True, min_bin_freq=1,\n",
       "     n_jobs=1, seeds=None)"
      ]
     },
     "execution_count": 2,
     "metadata": {},
     "output_type": "execute_result"
    }
   ],
   "source": [
    "model = MeanShift(bandwidth=0.1)\n",
    "model.fit(subdata)"
   ]
  },
  {
   "cell_type": "code",
   "execution_count": 8,
   "metadata": {},
   "outputs": [],
   "source": [
    "times = []\n",
    "for i in range(3230):\n",
    "    res = 0\n",
    "    for j in range(model.labels_.shape[0]):\n",
    "        if model.labels_[j] == i:\n",
    "            res+=1\n",
    "    times.append(res)\n",
    "\n",
    "left = []\n",
    "for i in range(len(times)):\n",
    "    if times[i] > 15:\n",
    "        left.append(i)"
   ]
  },
  {
   "cell_type": "code",
   "execution_count": 18,
   "metadata": {},
   "outputs": [],
   "source": [
    "centers = []\n",
    "\n",
    "for i in left:\n",
    "    centers.append(model.cluster_centers_[i])"
   ]
  },
  {
   "cell_type": "code",
   "execution_count": 26,
   "metadata": {},
   "outputs": [
    {
     "data": {
      "text/plain": [
       "593"
      ]
     },
     "execution_count": 26,
     "metadata": {},
     "output_type": "execute_result"
    }
   ],
   "source": [
    "offices = [[33.751277, -118.188740], [25.867736, -80.324116],  [51.503016, -0.075479], [52.378894, 4.885084], [39.366487, 117.036146], [-33.868457, 151.205134]]\n",
    "offices[0]\n",
    "len(centers)"
   ]
  },
  {
   "cell_type": "code",
   "execution_count": 56,
   "metadata": {},
   "outputs": [
    {
     "name": "stdout",
     "output_type": "stream",
     "text": [
      "0.00935331618599\n",
      "0.0226740661584\n",
      "0.0708477324272\n",
      "0.134109033362\n",
      "0.00783475816311\n",
      "0.0500582948228\n",
      "0.16740596425\n",
      "0.188875960602\n",
      "0.195779456478\n",
      "0.211810536824\n",
      "0.2949788868\n",
      "0.302270118692\n",
      "0.338810470251\n",
      "0.271300759507\n",
      "0.304730503078\n",
      "0.222233290732\n",
      "0.314883790336\n",
      "0.340845653322\n",
      "0.37868750125\n",
      "0.386706224843\n",
      "[ 52.37296399   4.89231722]\n",
      "[ 25.84567226 -80.3188906 ]\n",
      "[  33.80987796 -118.14892381]\n",
      "[ 25.78581242 -80.21793804]\n",
      "[ -33.86063043  151.20477593]\n",
      "[ 51.50299126  -0.12553729]\n",
      "[ 25.70534972 -80.28342874]\n",
      "[ 26.01009825 -80.19999059]\n",
      "[  33.88832534 -118.04892817]\n",
      "[  33.87298601 -118.36209115]\n",
      "[  33.98393587 -118.00740497]\n",
      "[ 26.12086266 -80.15890668]\n",
      "[  33.67430266 -117.85878927]\n",
      "[ 26.13884379 -80.33434684]\n",
      "[  33.81730643 -117.89124917]\n",
      "[  33.97257482 -118.16837067]\n",
      "[  34.06039755 -118.24870903]\n",
      "[ 26.20058464 -80.25071613]\n",
      "[  34.03548695 -118.43899772]\n",
      "[  34.13146015 -118.11801181]\n"
     ]
    },
    {
     "data": {
      "text/plain": [
       "array([  37.68868157, -122.40933037])"
      ]
     },
     "execution_count": 56,
     "metadata": {},
     "output_type": "execute_result"
    }
   ],
   "source": [
    "import numpy as np\n",
    "places = []\n",
    "for i in range(len(centers)):\n",
    "    distances = []\n",
    "    for j in range(len(offices)):\n",
    "        dist = np.linalg.norm(centers[i] - offices[j])\n",
    "        distances.append(dist)\n",
    "    places.append(min(distances))\n",
    "    \n",
    "indices = np.argpartition(places, 20)[:20]\n",
    "\n",
    "for i in indices:\n",
    "    print places[i]\n",
    "\n",
    "for i in indices:\n",
    "    print centers[i]\n",
    "centers[4]"
   ]
  }
 ],
 "metadata": {
  "kernelspec": {
   "display_name": "Python 2",
   "language": "python",
   "name": "python2"
  },
  "language_info": {
   "codemirror_mode": {
    "name": "ipython",
    "version": 2
   },
   "file_extension": ".py",
   "mimetype": "text/x-python",
   "name": "python",
   "nbconvert_exporter": "python",
   "pygments_lexer": "ipython2",
   "version": "2.7.14"
  }
 },
 "nbformat": 4,
 "nbformat_minor": 2
}
