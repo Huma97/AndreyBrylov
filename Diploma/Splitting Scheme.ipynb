{
 "cells": [
  {
   "cell_type": "markdown",
   "metadata": {},
   "source": [
    "# Решаем уравнение вида $ \\frac{\\partial U}{\\partial t} + c \\frac{\\partial U}{\\partial x} = U $"
   ]
  },
  {
   "cell_type": "code",
   "execution_count": 168,
   "metadata": {},
   "outputs": [
    {
     "name": "stdout",
     "output_type": "stream",
     "text": [
      "ЕСТЬ СХОДИМОСТЬ\n",
      "0.416666666667 0.4 0.166666666667\n"
     ]
    }
   ],
   "source": [
    "import numpy as np\n",
    "import matplotlib.pyplot as plt\n",
    "\n",
    "def fillValues(x, size, Step):\n",
    "    x.append(0)\n",
    "    for i in range(size - 1):\n",
    "        x.append(x[i] + Step)\n",
    "\n",
    "def U0(x):\n",
    "# Треугольник\n",
    "#    if (x <= 0.5) and (x >= 0.4):\n",
    "#        return 10*x-4 \n",
    "#    elif (x<=0.6) and (x>=0.5):\n",
    "#        return -10*x + 6\n",
    "#    else:\n",
    "#        return 0 \n",
    "    \n",
    "#Ступенька\n",
    "#    if (x <= 0.6) and (x >= 0.4):\n",
    "#        return 1\n",
    "#    else:\n",
    "#        return 0\n",
    "\n",
    "#Полуэллипс\n",
    "    if (x <= 0.6) and (x >= 0.4):\n",
    "        return np.sqrt(1 - 100*((x-0.5)**2))\n",
    "    else:\n",
    "        return 0\n",
    "\n",
    "c = 1.\n",
    "L = 2.\n",
    "T = 1.\n",
    "gridWidth = 5\n",
    "gridHeight = 6\n",
    "xStep = L/gridWidth\n",
    "tau = T/gridHeight \n",
    "Q = c*tau/xStep\n",
    "\n",
    "if (Q < 1):\n",
    "    print(\"ЕСТЬ СХОДИМОСТЬ\")\n",
    "else:\n",
    "    print(\"НЕТ СХОДИМОСТИ\")\n",
    "    \n",
    "print Q, xStep, tau"
   ]
  },
  {
   "cell_type": "code",
   "execution_count": 184,
   "metadata": {},
   "outputs": [
    {
     "name": "stdout",
     "output_type": "stream",
     "text": [
      "[0, 0.4, 0.8, 1.2000000000000002, 1.6]\n",
      "[0.2, 0.6000000000000001, 1.0, 1.4]\n"
     ]
    }
   ],
   "source": [
    "x =[]\n",
    "a = []\n",
    "t = []\n",
    "T = []\n",
    "\n",
    "fillValues(x, gridWidth, xStep)\n",
    "fillValues(a, 2*gridWidth, xStep/2)\n",
    "fillValues(t, gridHeight, tau)\n",
    "fillValues(T, 2*gridHeight, tau/2)\n",
    "\n",
    "y = []\n",
    "\n",
    "for i in range(2*gridWidth-1):\n",
    "    if i%2 != 0:\n",
    "        y.append(a[i])\n",
    "print x\n",
    "print y      "
   ]
  },
  {
   "cell_type": "markdown",
   "metadata": {},
   "source": [
    "# Расщепление по физическим процессам"
   ]
  },
  {
   "cell_type": "code",
   "execution_count": 190,
   "metadata": {
    "scrolled": false
   },
   "outputs": [
    {
     "name": "stdout",
     "output_type": "stream",
     "text": [
      "[[  0.00000000e+00   0.00000000e+00   0.00000000e+00   0.00000000e+00\n",
      "    2.02901605e-10   1.04602149e-09]\n",
      " [  2.10734243e-08   0.00000000e+00   0.00000000e+00   0.00000000e+00\n",
      "    0.00000000e+00   0.00000000e+00]\n",
      " [  0.00000000e+00   8.78059344e-09   5.12201284e-09   2.98784082e-09\n",
      "    1.37980149e-09   4.69515785e-10]\n",
      " [  0.00000000e+00   0.00000000e+00   3.65858060e-09   4.62403937e-09\n",
      "    4.30539563e-09   3.42176649e-09]\n",
      " [  0.00000000e+00   0.00000000e+00   0.00000000e+00   1.16871325e-09\n",
      "    2.89249471e-09   3.80806370e-09]]\n",
      "[[  0.00000000e+00   0.00000000e+00   0.00000000e+00   2.02901605e-10\n",
      "    1.04602149e-09   0.00000000e+00]\n",
      " [  0.00000000e+00   0.00000000e+00   0.00000000e+00   0.00000000e+00\n",
      "    0.00000000e+00   0.00000000e+00]\n",
      " [  8.78059344e-09   5.12201284e-09   2.98784082e-09   1.37980149e-09\n",
      "    4.69515785e-10   0.00000000e+00]\n",
      " [  0.00000000e+00   3.65858060e-09   4.62403937e-09   4.30539563e-09\n",
      "    3.42176649e-09   0.00000000e+00]]\n"
     ]
    }
   ],
   "source": [
    "def func(x):\n",
    "    return x\n",
    "\n",
    "def minmod(a,b):\n",
    "    if a*b <= 0:\n",
    "        return 0\n",
    "    elif (a > 0) and (b > 0):\n",
    "        return min(a, b)\n",
    "    elif (a < 0) and (b < 0):\n",
    "        return max(a, b)\n",
    "\n",
    "def maxmod(a,b):\n",
    "    if a*b <= 0:\n",
    "        return 0\n",
    "    elif (a > 0) and (b > 0):\n",
    "        return max(a, b)\n",
    "    elif (a < 0) and (b < 0):\n",
    "        return min(a, b)\n",
    "\n",
    "def f(x,y,z):\n",
    "#    return minmod(z-y, y-x)\n",
    "    return maxmod(minmod(2*(z-y), y-x), minmod(z-y, 2*(y-x)))\n",
    "\n",
    "def G(a,b,c,d):\n",
    "    return f(a, b, c)-f(d, a, b)\n",
    "\n",
    "\n",
    "X = np.zeros((gridWidth,gridHeight))\n",
    "Y = np.zeros((gridWidth-1,gridHeight-1))\n",
    "\n",
    "\n",
    "for i in range(gridWidth):\n",
    "    X[i,0] = U0(x[i])\n",
    "\n",
    "for i in range(gridWidth-1):\n",
    "    Y[i,0] = U0(y[i])\n",
    "    \n",
    "#Первый порядок аппроксимации\n",
    "#for j in range(gridHeight - 1):\n",
    "#    for i in range(2, gridWidth - 1):\n",
    "#        U[i][j+1] = (1 - Q)*U[i][j] + Q*U[i - 1][j] + Q*(Q-1)/2*G(U[i-1][j], U[i][j], U[i+1][j], U[i-2][j])\n",
    "#    U[0][j+1] = (1 - Q)*U[0][j] + Q*U[-1][j] + Q*(Q-1)/2*G(U[-1][j], U[0][j], U[1][j], U[-2][j])\n",
    "#    U[gridWidth-1][j+1] = (1 - Q)*U[gridWidth-1][j] + Q*U[gridWidth - 2][j] + Q*(Q-1)/2*G(U[gridWidth-2][j], U[gridWidth-1][j], U[0][j], U[-3][j])\n",
    "#    U[1][j+1] = (1 - Q)*U[1][j] + Q*U[0][j] + Q*(Q-1)/2*G(U[0][j], U[1][j], U[2][j], U[-1][j])\n",
    "    \n",
    "#    for i in range(gridWidth):\n",
    "#        K1 = func(U[i,j+1])\n",
    "#        K2 = func(U[i,j+1] + tau/2.*K1)\n",
    "#        K3 = func(U[i,j+1] + tau/2.*K2)\n",
    "#        K4 = func(U[i,j+1] + tau*K3)\n",
    "#        U[i,j+1] = U[i,j+1] + tau/6.*(K1 + 2*K2 + 2*K3 + K4)\n",
    "\n",
    "#Второй порядок аппроксимации\n",
    "for j in range(gridHeight - 1):\n",
    "    for i in range(2, gridWidth-1):\n",
    "        X[i,j+1] = (1 - Q)*X[i,j] + Q*X[i-1,j] + Q*(Q-1)/2*G(X[i-1,j], X[i,j], X[i+1,j], X[i-2,j])\n",
    "    X[0,j+1] = (1 - Q)*X[0,j] + Q*X[-1,j] + Q*(Q-1)/2*G(X[-1,j], X[0,j], X[1,j], X[-2,j])\n",
    "    X[gridWidth-1,j+1] = (1 - Q)*X[gridWidth-1,j] + Q*X[gridWidth-2,j] + Q*(Q-1)/2*G(X[gridWidth-2,j], X[gridWidth-1,j], X[0,j], X[-3,j])\n",
    "    \n",
    "    for i in range(gridWidth-1):\n",
    "        Y[i,j] = X[i,j+1]\n",
    "        \n",
    "print X\n",
    "\n",
    "print Y\n",
    "        \n",
    "\n",
    "#    for i in range(gridWidth):\n",
    "#        K1 = func(X[i])\n",
    "#        K2 = func(X[i] + tau/2.*K1)\n",
    "#        K3 = func(X[i] + tau/2.*K2)\n",
    "#        K4 = func(X[i] + tau*K3)\n",
    "#        U[i,j+1] = X[i] + tau/6.*(K1 + 2*K2 + 2*K3 + K4)\n",
    "#    for i in range(2, gridWidth - 1):\n",
    "#        U[i,j+1] = (1 - Q)*X[i] + Q*X[i-1] + Q/2*(Q-1)/2*G(X[i-1], X[i], X[i+1], X[i-2])\n",
    "#    U[0,j+1] = (1 - Q)*X[0] + Q*X[-1] + Q*(Q-1)/2*G(X[-1], X[0], X[1], X[-2])\n",
    "#    U[gridWidth-1,j+1] = (1 - Q)*X[-1] + Q*X[-2] + Q*(Q-1)/2*G(X[-2], X[-1], X[0], X[-3])\n",
    "#    U[1,j+1] = (1 - Q)*X[1] + Q*X[0] + Q*(Q-1)/2*G(X[0], X[1], X[2], X[-1])\n",
    "        \n",
    "#U_real = np.zeros((gridWidth, gridHeight))\n",
    "\n",
    "#for j in range(gridHeight):\n",
    "#    for i in range(gridWidth):\n",
    "#        U_real[i,j] = U0(x[i] - c*t[j])*np.exp(t[j])\n",
    "\n",
    "#plt.figure(figsize = (20,10))\n",
    "#for i in (0, 50, 100,150):\n",
    "#    plt.scatter(x, U[:,i], label='t = %s'%t[i])\n",
    "#    plt.plot(x, U_real[:,i])\n",
    "#    plt.legend(loc = 'best')\n",
    "#    plt.xlabel('x')\n",
    "#    plt.ylabel('U')\n",
    "#plt.show()"
   ]
  },
  {
   "cell_type": "code",
   "execution_count": 166,
   "metadata": {},
   "outputs": [
    {
     "data": {
      "text/plain": [
       "[1, 3]"
      ]
     },
     "execution_count": 166,
     "metadata": {},
     "output_type": "execute_result"
    }
   ],
   "source": [
    "range(1,5,2)"
   ]
  }
 ],
 "metadata": {
  "kernelspec": {
   "display_name": "Python 2",
   "language": "python",
   "name": "python2"
  },
  "language_info": {
   "codemirror_mode": {
    "name": "ipython",
    "version": 2
   },
   "file_extension": ".py",
   "mimetype": "text/x-python",
   "name": "python",
   "nbconvert_exporter": "python",
   "pygments_lexer": "ipython2",
   "version": "2.7.14"
  }
 },
 "nbformat": 4,
 "nbformat_minor": 2
}
