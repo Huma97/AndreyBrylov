{
 "cells": [
  {
   "cell_type": "markdown",
   "metadata": {},
   "source": [
    "# 1NN"
   ]
  },
  {
   "cell_type": "code",
   "execution_count": 1,
   "metadata": {
    "collapsed": true
   },
   "outputs": [],
   "source": [
    "from sklearn import datasets\n",
    "from sklearn.model_selection import train_test_split\n",
    "\n",
    "def metric(x, y):\n",
    "    res = 0\n",
    "    for i in range(x.shape[0]):\n",
    "        res += (x[i] - y[i])**2\n",
    "    return res\n",
    "\n",
    "def write_to_file(answer):\n",
    "    with open('answ', 'w') as fout:\n",
    "        fout.write(str(answer))    \n",
    "    \n",
    "digits = datasets.load_digits()\n",
    "X = digits.data\n",
    "y = digits.target\n",
    "\n",
    "X_train, X_test, y_train, y_test = train_test_split(X, y, test_size = 0.25, shuffle = False)"
   ]
  },
  {
   "cell_type": "code",
   "execution_count": 3,
   "metadata": {
    "collapsed": true
   },
   "outputs": [],
   "source": [
    "predictions = []\n",
    "\n",
    "for i in range(X_test.shape[0]):\n",
    "    pairs = []\n",
    "    for j in range(X_train.shape[0]):\n",
    "        pairs.append((metric(X_test[i,:], X_train[j,:]), y_train[j]))\n",
    "    pairs = sorted(pairs)\n",
    "    predictions.append(pairs[0][1])"
   ]
  },
  {
   "cell_type": "code",
   "execution_count": 5,
   "metadata": {},
   "outputs": [
    {
     "name": "stdout",
     "output_type": "stream",
     "text": [
      "0.0377777777778\n"
     ]
    }
   ],
   "source": [
    "error = 0\n",
    "\n",
    "for i in range(len(predictions)):\n",
    "    if (predictions[i] != y_test[i]):\n",
    "        error += 1./len(predictions)\n",
    "    \n",
    "write_to_file(error)"
   ]
  },
  {
   "cell_type": "markdown",
   "metadata": {},
   "source": [
    "# RandomForest"
   ]
  },
  {
   "cell_type": "code",
   "execution_count": 7,
   "metadata": {},
   "outputs": [
    {
     "data": {
      "text/plain": [
       "0.06666666666666667"
      ]
     },
     "execution_count": 7,
     "metadata": {},
     "output_type": "execute_result"
    }
   ],
   "source": [
    "from sklearn.ensemble import RandomForestClassifier\n",
    "\n",
    "Classifier = RandomForestClassifier(n_estimators=1000)\n",
    "Classifier.fit(X_train, y_train)\n",
    "\n",
    "predictions = Classifier.predict(X_test)\n",
    "\n",
    "error = 0\n",
    "\n",
    "for i in range(len(predictions)):\n",
    "    if (predictions[i] != y_test[i]):\n",
    "        error += 1./len(predictions)\n",
    "    \n",
    "write_to_file(error)\n",
    "error"
   ]
  }
 ],
 "metadata": {
  "kernelspec": {
   "display_name": "Python 2",
   "language": "python",
   "name": "python2"
  },
  "language_info": {
   "codemirror_mode": {
    "name": "ipython",
    "version": 2
   },
   "file_extension": ".py",
   "mimetype": "text/x-python",
   "name": "python",
   "nbconvert_exporter": "python",
   "pygments_lexer": "ipython2",
   "version": "2.7.14"
  }
 },
 "nbformat": 4,
 "nbformat_minor": 2
}
